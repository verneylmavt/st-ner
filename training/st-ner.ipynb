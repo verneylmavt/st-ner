{
 "cells": [
  {
   "cell_type": "code",
   "execution_count": 1,
   "metadata": {},
   "outputs": [],
   "source": [
    "import os\n",
    "import random\n",
    "from tqdm import tqdm\n",
    "import numpy as np\n",
    "import matplotlib.pyplot as plt\n",
    "from datasets import load_dataset\n",
    "from collections import Counter\n",
    "import nltk\n",
    "import torch\n",
    "from torch.utils.data import Dataset, DataLoader\n",
    "import torch.nn as nn\n",
    "import torch.optim as optim\n",
    "from seqeval.metrics import f1_score, classification_report, accuracy_score, recall_score, precision_score\n",
    "import optuna\n",
    "from onnxruntime.quantization import quantize_dynamic, QuantType"
   ]
  },
  {
   "cell_type": "code",
   "execution_count": 2,
   "metadata": {},
   "outputs": [],
   "source": [
    "device = torch.device('cuda:0' if torch.cuda.is_available() else 'cpu')"
   ]
  },
  {
   "cell_type": "markdown",
   "metadata": {},
   "source": [
    "### BiLSTMwAttention"
   ]
  },
  {
   "cell_type": "markdown",
   "metadata": {},
   "source": [
    "#### Seed Setting"
   ]
  },
  {
   "cell_type": "markdown",
   "metadata": {},
   "source": [
    "```markdown\n",
    "In here, the code sets the random seed for reproducibility across random, NumPy, and PyTorch operations. This ensures consistent results by fixing the seed for both CPU and GPU computations.\n",
    "```"
   ]
  },
  {
   "cell_type": "code",
   "execution_count": 3,
   "metadata": {},
   "outputs": [],
   "source": [
    "def set_seed(seed=42):\n",
    "    random.seed(seed)\n",
    "    np.random.seed(seed)\n",
    "    torch.manual_seed(seed)\n",
    "    if torch.cuda.is_available():\n",
    "        torch.cuda.manual_seed_all(seed)\n",
    "set_seed()"
   ]
  },
  {
   "cell_type": "markdown",
   "metadata": {},
   "source": [
    "#### Data Loading"
   ]
  },
  {
   "cell_type": "markdown",
   "metadata": {},
   "source": [
    "```markdown\n",
    "In here, the code loads the CoNLL-2003 dataset using the load_dataset function with remote code execution trusted.\n",
    "```"
   ]
  },
  {
   "cell_type": "code",
   "execution_count": 4,
   "metadata": {},
   "outputs": [],
   "source": [
    "dataset = load_dataset(\"conll2003\", trust_remote_code=True)"
   ]
  },
  {
   "cell_type": "markdown",
   "metadata": {},
   "source": [
    "#### Tag Building"
   ]
  },
  {
   "cell_type": "markdown",
   "metadata": {},
   "source": [
    "```markdown\n",
    "In here, the code extracts the set of unique NER tags from all dataset splits and creates mappings from tags to indices and vice versa.\n",
    "```"
   ]
  },
  {
   "cell_type": "code",
   "execution_count": 5,
   "metadata": {},
   "outputs": [],
   "source": [
    "tag_set = set()\n",
    "for split in ['train', 'validation', 'test']:\n",
    "    for tags in dataset[split]['ner_tags']:\n",
    "        tag_set.update(tags)"
   ]
  },
  {
   "cell_type": "code",
   "execution_count": 6,
   "metadata": {},
   "outputs": [],
   "source": [
    "tag_names = dataset['train'].features['ner_tags'].feature.names\n",
    "tagset_size = len(tag_set)\n",
    "\n",
    "tag2idx = {tag: idx for idx, tag in enumerate(tag_names)}\n",
    "idx2tag = {idx: tag for tag, idx in tag2idx.items()}"
   ]
  },
  {
   "cell_type": "markdown",
   "metadata": {},
   "source": [
    "#### Word Vocabulary Building"
   ]
  },
  {
   "cell_type": "markdown",
   "metadata": {},
   "source": [
    "```markdown\n",
    "In here, the code counts the frequency of each word in the training set, selects the most common words up to a specified vocabulary size, and creates mappings from words to indices and vice versa, including special tokens for padding and unknown words.\n",
    "```"
   ]
  },
  {
   "cell_type": "code",
   "execution_count": 7,
   "metadata": {},
   "outputs": [],
   "source": [
    "word_counter = Counter()\n",
    "for tokens in dataset['train']['tokens']:\n",
    "    word_counter.update([token.lower() for token in tokens])"
   ]
  },
  {
   "cell_type": "code",
   "execution_count": 8,
   "metadata": {},
   "outputs": [],
   "source": [
    "vocab_size = 100000\n",
    "special_tokens = ['<PAD>', '<UNK>']\n",
    "\n",
    "word2idx = {word: idx + len(special_tokens) for idx, (word, _) in enumerate(word_counter.most_common(vocab_size))}\n",
    "word2idx['<PAD>'] = 0\n",
    "word2idx['<UNK>'] = 1\n",
    "\n",
    "idx2word = {idx: word for word, idx in word2idx.items()}"
   ]
  },
  {
   "cell_type": "markdown",
   "metadata": {},
   "source": [
    "#### Character Vocabulary Building"
   ]
  },
  {
   "cell_type": "markdown",
   "metadata": {},
   "source": [
    "```markdown\n",
    "In here, the code constructs a set of unique characters from all tokens across dataset splits and creates mappings from characters to indices and vice versa, including special tokens for padding and unknown characters.\n",
    "```"
   ]
  },
  {
   "cell_type": "code",
   "execution_count": 9,
   "metadata": {},
   "outputs": [],
   "source": [
    "char_set = set()\n",
    "for split in ['train', 'validation', 'test']:\n",
    "    for tokens in dataset[split]['tokens']:\n",
    "        for token in tokens:\n",
    "            char_set.update(token)"
   ]
  },
  {
   "cell_type": "code",
   "execution_count": 10,
   "metadata": {},
   "outputs": [],
   "source": [
    "char2idx = {char: idx + 2 for idx, char in enumerate(sorted(char_set))}\n",
    "char2idx['<PAD>'] = 0\n",
    "char2idx['<UNK>'] = 1\n",
    "\n",
    "idx2char = {idx: char for char, idx in char2idx.items()}\n",
    "\n",
    "char_vocab_size = len(char2idx)"
   ]
  },
  {
   "cell_type": "code",
   "execution_count": 13,
   "metadata": {},
   "outputs": [
    {
     "name": "stdout",
     "output_type": "stream",
     "text": [
      "9\n"
     ]
    }
   ],
   "source": [
    "print(tagset_size)"
   ]
  },
  {
   "cell_type": "markdown",
   "metadata": {},
   "source": [
    "#### Data Encoding"
   ]
  },
  {
   "cell_type": "markdown",
   "metadata": {},
   "source": [
    "```markdown\n",
    "In here, the code defines a function to encode the dataset by converting words and characters to their respective indices, handling padding for both words and characters, and applies this encoding to the training, validation, and test sets.\n",
    "```"
   ]
  },
  {
   "cell_type": "code",
   "execution_count": 47,
   "metadata": {},
   "outputs": [],
   "source": [
    "max_len = 50\n",
    "max_char_len = 10"
   ]
  },
  {
   "cell_type": "code",
   "execution_count": 48,
   "metadata": {},
   "outputs": [],
   "source": [
    "def encode_data_with_chars(split):\n",
    "    data = []\n",
    "    for tokens, tags in zip(dataset[split]['tokens'], dataset[split]['ner_tags']):\n",
    "        word_ids = [word2idx.get(token.lower(), word2idx['<UNK>']) for token in tokens]\n",
    "        tag_ids = [tag for tag in tags]\n",
    "        char_ids = []\n",
    "        for token in tokens:\n",
    "            chars = [char2idx.get(c, char2idx['<UNK>']) for c in token]\n",
    "            if len(chars) > max_char_len:\n",
    "                chars = chars[:max_char_len]\n",
    "            else:\n",
    "                chars += [char2idx['<PAD>']] * (max_char_len - len(chars))\n",
    "            char_ids.append(chars)\n",
    "        if len(word_ids) > max_len:\n",
    "            word_ids = word_ids[:max_len]\n",
    "            tag_ids = tag_ids[:max_len]\n",
    "            char_ids = char_ids[:max_len]\n",
    "        else:\n",
    "            pad_length = max_len - len(word_ids)\n",
    "            word_ids += [word2idx['<PAD>']] * pad_length\n",
    "            tag_ids += [-100] * pad_length\n",
    "            char_ids += [[char2idx['<PAD>']] * max_char_len] * pad_length\n",
    "        data.append((word_ids, char_ids, tag_ids))\n",
    "    return data"
   ]
  },
  {
   "cell_type": "code",
   "execution_count": 49,
   "metadata": {},
   "outputs": [],
   "source": [
    "train_data = encode_data_with_chars('train')\n",
    "val_data = encode_data_with_chars('validation')\n",
    "test_data = encode_data_with_chars('test')"
   ]
  },
  {
   "cell_type": "markdown",
   "metadata": {},
   "source": [
    "#### Embedding Loading"
   ]
  },
  {
   "cell_type": "markdown",
   "metadata": {},
   "source": [
    "```markdown\n",
    "In here, the code loads pre-trained GloVe embeddings from a specified file path, initializes an embedding matrix with these vectors for known words, and assigns random vectors to words not present in the GloVe embeddings.\n",
    "```"
   ]
  },
  {
   "cell_type": "code",
   "execution_count": 50,
   "metadata": {},
   "outputs": [],
   "source": [
    "embedding_dim = 200\n",
    "embeddings_index = {}\n",
    "glove_file_path = \"../../data/glove.6B.200d/glove.6B.200d.txt\""
   ]
  },
  {
   "cell_type": "code",
   "execution_count": 51,
   "metadata": {},
   "outputs": [
    {
     "name": "stderr",
     "output_type": "stream",
     "text": [
      "100%|██████████| 400000/400000 [00:11<00:00, 35116.33it/s]\n"
     ]
    }
   ],
   "source": [
    "with open(glove_file_path, encoding='utf-8') as f:\n",
    "    for line in tqdm(f, total=400000):\n",
    "        values = line.split()\n",
    "        word = values[0]\n",
    "        vector = np.asarray(values[1:], dtype='float32')\n",
    "        embeddings_index[word] = vector"
   ]
  },
  {
   "cell_type": "code",
   "execution_count": 52,
   "metadata": {},
   "outputs": [],
   "source": [
    "embedding_matrix = np.zeros((len(word2idx), embedding_dim))\n",
    "\n",
    "for word, idx in word2idx.items():\n",
    "    if word in embeddings_index:\n",
    "        embedding_matrix[idx] = embeddings_index[word]\n",
    "    else:\n",
    "        embedding_matrix[idx] = np.random.normal(scale=0.6, size=(embedding_dim,))\n",
    "        \n",
    "embedding_matrix = torch.tensor(embedding_matrix, dtype=torch.float)"
   ]
  },
  {
   "cell_type": "markdown",
   "metadata": {},
   "source": [
    "#### Dataset and DataLoader"
   ]
  },
  {
   "cell_type": "markdown",
   "metadata": {},
   "source": [
    "```markdown\n",
    "In here, the code defines a custom dataset class that handles word and character indices along with their corresponding tags. It then creates dataset instances for training, validation, and testing, and wraps them in DataLoader objects for batching.\n",
    "```"
   ]
  },
  {
   "cell_type": "code",
   "execution_count": 53,
   "metadata": {},
   "outputs": [],
   "source": [
    "class NERDatasetWithChars(Dataset):\n",
    "    def __init__(self, data):\n",
    "        self.data = data\n",
    "    \n",
    "    def __len__(self):\n",
    "        return len(self.data)\n",
    "    \n",
    "    def __getitem__(self, idx):\n",
    "        word_ids, char_ids, tag_ids = self.data[idx]\n",
    "        return {\n",
    "            'words': torch.tensor(word_ids, dtype=torch.long),\n",
    "            'chars': torch.tensor(char_ids, dtype=torch.long),\n",
    "            'tags': torch.tensor(tag_ids, dtype=torch.long)\n",
    "        }"
   ]
  },
  {
   "cell_type": "code",
   "execution_count": 54,
   "metadata": {},
   "outputs": [],
   "source": [
    "train_dataset = NERDatasetWithChars(train_data)\n",
    "val_dataset = NERDatasetWithChars(val_data)\n",
    "test_dataset = NERDatasetWithChars(test_data)"
   ]
  },
  {
   "cell_type": "code",
   "execution_count": 55,
   "metadata": {},
   "outputs": [],
   "source": [
    "batch_size = 64\n",
    "train_iter = DataLoader(train_dataset, batch_size=batch_size, shuffle=True)\n",
    "val_iter = DataLoader(val_dataset, batch_size=batch_size)\n",
    "test_iter = DataLoader(test_dataset, batch_size=batch_size)"
   ]
  },
  {
   "cell_type": "markdown",
   "metadata": {},
   "source": [
    "#### Model Definition"
   ]
  },
  {
   "cell_type": "markdown",
   "metadata": {},
   "source": [
    "```markdown\n",
    "In here, the code defines a BiLSTM model with character embeddings and an attention mechanism for Named Entity Recognition. The model includes embedding layers for words and characters, LSTM layers for processing sequences, a multi-head attention layer, and a fully connected layer for tag prediction.\n",
    "\n",
    "• Word Embeddings\n",
    "The word embedding layer transforms input words into dense vector representations of fixed size. This layer is initialized with a pre-trained embedding matrix if provided, allowing the model to benefit from semantic information learned from large external corpora. Dropout regularization is applied to word embeddings to prevent overfitting and improve generalization.\n",
    "\n",
    "• Character Embeddings\n",
    "To capture subword-level information, the model includes a character embedding layer. Each character in a word is embedded into a dense vector. A bidirectional LSTM processes these character embeddings, producing a combined forward and backward hidden state for each word. This character-level feature is concatenated with the corresponding word embedding, enabling the model to better handle out-of-vocabulary words and learn morphological patterns.\n",
    "\n",
    "• BiLSTM\n",
    "The concatenated word and character embeddings are fed into a bidirectional LSTM. This layer captures contextual information by processing sequences in both forward and backward directions. The hidden states from the BiLSTM encode the contextual dependencies of words within the input sequence. A dropout layer and layer normalization are applied to the BiLSTM output to stabilize training and reduce overfitting.\n",
    "\n",
    "• Multi-Head Attention\n",
    "The multi-head attention layer operates on the BiLSTM outputs, allowing the model to attend to different parts of the sequence when producing a representation for each word. This mechanism enhances the model’s ability to capture long-range dependencies and focus on important tokens. The attention output is combined with the BiLSTM output via a residual connection, further improving representation quality and preserving the original sequential information.\n",
    "\n",
    "• Fully Connected Layer\n",
    "The combined output from the residual connection is passed through a fully connected layer, mapping it to the tag space. This final layer is responsible for producing the tag predictions for each token in the sequence, such as entity labels for NER tasks.\n",
    "```"
   ]
  },
  {
   "cell_type": "code",
   "execution_count": 56,
   "metadata": {},
   "outputs": [],
   "source": [
    "class BiLSTMwA(nn.Module):\n",
    "    def __init__(self, vocab_size, char_vocab_size, word_embedding_dim, char_embedding_dim,\n",
    "                 char_hidden_dim, hidden_dim, tagset_size, embeddings=None, dropout=0.5):\n",
    "        super(BiLSTMwA, self).__init__()\n",
    "        \n",
    "        # Embedding Layer for Word w/ Padding Index for '<PAD>'\n",
    "        self.word_embedding = nn.Embedding(vocab_size, word_embedding_dim, padding_idx=word2idx['<PAD>'])\n",
    "        # Parameter Layer for Word Embeddings Initialization w/ Pre-Trained Embeddings (if provided)\n",
    "        if embeddings is not None:\n",
    "            self.word_embedding.weight = nn.Parameter(embeddings)\n",
    "            self.word_embedding.weight.requires_grad = True # Gradient Enabling for Fine-Tuning\n",
    "        # Dropout Layer for Word Regularization\n",
    "        self.word_dropout = nn.Dropout(dropout)\n",
    "        \n",
    "        # Embedding Layer for Character w/ Padding Index for '<PAD>'\n",
    "        self.char_embedding = nn.Embedding(char_vocab_size, char_embedding_dim, padding_idx=char2idx['<PAD>'])\n",
    "        # UniLSTM Layer for Character Feature Extraction\n",
    "        self.char_lstm = nn.LSTM(char_embedding_dim, char_hidden_dim, num_layers=1,\n",
    "                                 bidirectional=True, batch_first=True)\n",
    "        # Dropout Layer for Character Regularization\n",
    "        self.char_dropout = nn.Dropout(dropout)\n",
    "        \n",
    "        # BiLSTM Layer for Contextual Word and Character Representation\n",
    "        self.bilstm = nn.LSTM(word_embedding_dim + 2 * char_hidden_dim, hidden_dim // 2,\n",
    "                              num_layers=2, bidirectional=True, batch_first=True, dropout=dropout)\n",
    "        # Normalization Layer for Word and Character Stabilization\n",
    "        self.layer_norm = nn.LayerNorm(hidden_dim)\n",
    "        # Dropout Layer for Word and Character Regularization\n",
    "        self.lstm_dropout = nn.Dropout(dropout)\n",
    "        # Multi-Head Attention Layer for Contextual Word and Character Feature Extraction\n",
    "        self.attention = nn.MultiheadAttention(embed_dim=hidden_dim, num_heads=8, dropout=dropout, batch_first=True)\n",
    "        # Fully Connected Layer for Word and Character → Tag Space\n",
    "        self.hidden2tag = nn.Linear(hidden_dim, tagset_size)\n",
    "    \n",
    "    \n",
    "    def forward(self, words, chars):\n",
    "        # Word Embeddings of Input Words\n",
    "        word_embeds = self.word_embedding(words)\n",
    "        # Dropout of Word Embeddings\n",
    "        word_embeds = self.word_dropout(word_embeds)\n",
    "\n",
    "        batch_size, seq_len, char_len = chars.size()\n",
    "        chars = chars.view(batch_size * seq_len, char_len)\n",
    "        # Character Embeddings of Input Characters\n",
    "        char_embeds = self.char_embedding(chars)\n",
    "        # UniLSTM of Character Embeddings \n",
    "        char_lstm_out, _ = self.char_lstm(char_embeds)\n",
    "        # Concatenation of Forward and Backward Character Hidden States of Last Time Step\n",
    "        char_hidden = torch.cat((char_lstm_out[:, -1, :char_lstm_out.size(2)//2],\n",
    "                                 char_lstm_out[:, -1, char_lstm_out.size(2)//2:]), dim=1)\n",
    "        # Dropout of Character Hidden States\n",
    "        char_hidden = self.char_dropout(char_hidden)\n",
    "        # Reshaping of Character Hidden States → Word Embeddings\n",
    "        char_hidden = char_hidden.view(batch_size, seq_len, -1)\n",
    "        \n",
    "        # Concatenation of Word Embeddings and Character Hidden States\n",
    "        combined = torch.cat((word_embeds, char_hidden), dim=2)\n",
    "        # BiLSTM of Word Embeddings and Character Hidden States\n",
    "        lstm_out, _ = self.bilstm(combined)\n",
    "        # Normalization of BiLSTM Output\n",
    "        lstm_out = self.layer_norm(lstm_out)\n",
    "        # Dropout of BiLSTM Output\n",
    "        lstm_out = self.lstm_dropout(lstm_out)\n",
    "        # Attention of BiLSTM Output\n",
    "        attn_output, attn_weights = self.attention(lstm_out, lstm_out, lstm_out)\n",
    "        # Residual Connection: BiLSTM Output + Attention Output\n",
    "        combined_output = lstm_out + attn_output\n",
    "        # Transformation of Residual Connection → Tag Space\n",
    "        tag_space = self.hidden2tag(combined_output)\n",
    "        return tag_space"
   ]
  },
  {
   "cell_type": "markdown",
   "metadata": {},
   "source": [
    "#### Training Function"
   ]
  },
  {
   "cell_type": "markdown",
   "metadata": {},
   "source": [
    "```markdown\n",
    "In here, the code defines a function to train the model for one epoch. It processes each batch, computes the loss, performs backpropagation, updates the model parameters, and calculates the training accuracy.\n",
    "```"
   ]
  },
  {
   "cell_type": "code",
   "execution_count": 57,
   "metadata": {},
   "outputs": [],
   "source": [
    "def train_epoch(net, train_iter, criterion, optimizer, device):\n",
    "    net.train()\n",
    "    total_loss = 0\n",
    "    total_acc = 0\n",
    "\n",
    "    for batch in tqdm(train_iter, desc=\"Training\", leave=False):\n",
    "        words = batch['words'].to(device)\n",
    "        chars = batch['chars'].to(device)\n",
    "        tags = batch['tags'].to(device)\n",
    "\n",
    "        optimizer.zero_grad()\n",
    "        emissions = net(words, chars)\n",
    "\n",
    "        loss = criterion(emissions.view(-1, emissions.size(-1)), tags.view(-1))\n",
    "        loss.backward()\n",
    "\n",
    "        torch.nn.utils.clip_grad_norm_(net.parameters(), 1.0)\n",
    "        optimizer.step()\n",
    "\n",
    "        total_loss += loss.item()\n",
    "        _, preds = torch.max(emissions, dim=2)\n",
    "        acc = (preds == tags).float().sum() / (tags != -100).sum()\n",
    "        total_acc += acc.item()\n",
    "\n",
    "    avg_loss = total_loss / len(train_iter)\n",
    "    avg_acc = total_acc / len(train_iter)\n",
    "    return avg_loss, avg_acc"
   ]
  },
  {
   "cell_type": "markdown",
   "metadata": {},
   "source": [
    "#### Evaluation Function"
   ]
  },
  {
   "cell_type": "markdown",
   "metadata": {},
   "source": [
    "```markdown\n",
    "In here, the code defines a function to evaluate the model on a validation set. It computes the loss and accuracy without updating the model parameters and collects all predictions and true labels for further metric calculations.\n",
    "```"
   ]
  },
  {
   "cell_type": "code",
   "execution_count": 58,
   "metadata": {},
   "outputs": [],
   "source": [
    "def evaluate_epoch(net, val_iter, criterion, device):\n",
    "    net.eval()\n",
    "    total_loss = 0\n",
    "    total_acc = 0\n",
    "    all_preds = []\n",
    "    all_labels = []\n",
    "\n",
    "    with torch.no_grad():\n",
    "        for batch in tqdm(val_iter, desc=\"Evaluating\", leave=False):\n",
    "            words = batch['words'].to(device)\n",
    "            chars = batch['chars'].to(device)\n",
    "            tags = batch['tags'].to(device)\n",
    "\n",
    "            emissions = net(words, chars)\n",
    "\n",
    "            loss = criterion(emissions.view(-1, emissions.size(-1)), tags.view(-1))\n",
    "            total_loss += loss.item()\n",
    "\n",
    "            _, preds = torch.max(emissions, dim=2)\n",
    "            acc = (preds == tags).float().sum() / (tags != -100).sum()\n",
    "            total_acc += acc.item()\n",
    "\n",
    "            preds = preds.cpu().numpy()\n",
    "            tags = tags.cpu().numpy()\n",
    "\n",
    "            for pred_seq, tag_seq in zip(preds, tags):\n",
    "                pred_tags = []\n",
    "                true_tags = []\n",
    "                for p, t in zip(pred_seq, tag_seq):\n",
    "                    if t != -100:\n",
    "                        pred_tags.append(idx2tag[p])\n",
    "                        true_tags.append(idx2tag[t])\n",
    "                all_preds.append(pred_tags)\n",
    "                all_labels.append(true_tags)\n",
    "\n",
    "    avg_loss = total_loss / len(val_iter)\n",
    "    avg_acc = total_acc / len(val_iter)\n",
    "    return avg_loss, avg_acc, all_preds, all_labels"
   ]
  },
  {
   "cell_type": "markdown",
   "metadata": {},
   "source": [
    "#### Hyperparameter Tuning"
   ]
  },
  {
   "cell_type": "markdown",
   "metadata": {},
   "source": [
    "```markdown\n",
    "In here, the code utilizes Optuna to perform hyperparameter tuning. It defines an objective function that suggests hyperparameters, initializes the model with these parameters, trains the model for a set number of epochs with early stopping based on validation F1 score, and returns the best F1 score achieved. The study is then optimized over a specified number of trials to find the best hyperparameters.\n",
    "```"
   ]
  },
  {
   "cell_type": "code",
   "execution_count": 59,
   "metadata": {},
   "outputs": [],
   "source": [
    "def objective(trial):\n",
    "    lr = trial.suggest_loguniform('lr', 1e-5, 1e-2)\n",
    "    hidden_dim = trial.suggest_int('hidden_dim', 256, 1024, step=128)\n",
    "    dropout = trial.suggest_float('dropout', 0.3, 0.7, step=0.1)\n",
    "\n",
    "    net = BiLSTMwA(\n",
    "        vocab_size=vocab_size,\n",
    "        char_vocab_size=char_vocab_size,\n",
    "        word_embedding_dim=embedding_dim,\n",
    "        char_embedding_dim=50,\n",
    "        char_hidden_dim=50,\n",
    "        hidden_dim=hidden_dim,\n",
    "        tagset_size=tagset_size,\n",
    "        embeddings=embedding_matrix,\n",
    "        dropout=dropout\n",
    "    )\n",
    "    net.to(device)\n",
    "    criterion = nn.CrossEntropyLoss(ignore_index=-100)\n",
    "    optimizer = optim.Adam(net.parameters(), lr=lr)\n",
    "\n",
    "    best_val_f1 = 0.0\n",
    "    counter = 0\n",
    "    patience = 2\n",
    "    num_epochs_tuning = 5\n",
    "\n",
    "    for epoch in range(num_epochs_tuning):\n",
    "        train_loss, train_acc = train_epoch(net, train_iter, criterion, optimizer, device)\n",
    "        val_loss, val_acc, all_preds, all_labels = evaluate_epoch(net, val_iter, criterion, device)\n",
    "        val_f1 = f1_score(all_labels, all_preds)\n",
    "\n",
    "        if val_f1 > best_val_f1:\n",
    "            best_val_f1 = val_f1\n",
    "            torch.save(net.state_dict(), \"best_model.pth\")\n",
    "            counter = 0\n",
    "        else:\n",
    "            counter += 1\n",
    "            if counter >= patience:\n",
    "                break\n",
    "    return best_val_f1"
   ]
  },
  {
   "cell_type": "code",
   "execution_count": 60,
   "metadata": {},
   "outputs": [],
   "source": [
    "# study = optuna.create_study(direction='maximize', study_name='NER_Hyperparam_Tuning')\n",
    "# study.optimize(objective, n_trials=20)\n",
    "# best_trial = study.best_trial    \n",
    "# best_params = best_trial.params"
   ]
  },
  {
   "cell_type": "code",
   "execution_count": 61,
   "metadata": {},
   "outputs": [],
   "source": [
    "# print(\"\\nBest Hyperparameters:\")\n",
    "# for key, value in best_params.items():\n",
    "#     print(f\"{key}: {value}\")"
   ]
  },
  {
   "cell_type": "markdown",
   "metadata": {},
   "source": [
    "#### Final Training"
   ]
  },
  {
   "cell_type": "markdown",
   "metadata": {},
   "source": [
    "```markdown\n",
    "In here, the code initializes the BiLSTM model with the best hyperparameters obtained from tuning, sets up the optimizer and loss function, and trains the model for a specified number of epochs with early stopping based on validation F1 score. It also records training and validation metrics for visualization and saves the best-performing model.\n",
    "```"
   ]
  },
  {
   "cell_type": "code",
   "execution_count": 62,
   "metadata": {},
   "outputs": [
    {
     "data": {
      "text/plain": [
       "BiLSTMwA(\n",
       "  (word_embedding): Embedding(100000, 200, padding_idx=0)\n",
       "  (word_dropout): Dropout(p=0.4, inplace=False)\n",
       "  (char_embedding): Embedding(87, 50, padding_idx=0)\n",
       "  (char_lstm): LSTM(50, 50, batch_first=True, bidirectional=True)\n",
       "  (char_dropout): Dropout(p=0.4, inplace=False)\n",
       "  (bilstm): LSTM(300, 128, num_layers=2, batch_first=True, dropout=0.4, bidirectional=True)\n",
       "  (layer_norm): LayerNorm((256,), eps=1e-05, elementwise_affine=True)\n",
       "  (lstm_dropout): Dropout(p=0.4, inplace=False)\n",
       "  (attention): MultiheadAttention(\n",
       "    (out_proj): NonDynamicallyQuantizableLinear(in_features=256, out_features=256, bias=True)\n",
       "  )\n",
       "  (hidden2tag): Linear(in_features=256, out_features=9, bias=True)\n",
       ")"
      ]
     },
     "execution_count": 62,
     "metadata": {},
     "output_type": "execute_result"
    }
   ],
   "source": [
    "net = BiLSTMwA(\n",
    "    vocab_size=vocab_size,\n",
    "    char_vocab_size=char_vocab_size,\n",
    "    word_embedding_dim=embedding_dim,\n",
    "    char_embedding_dim=50,\n",
    "    # hidden_dim=best_params['hidden_dim'],\n",
    "    hidden_dim=256,\n",
    "    char_hidden_dim=50,\n",
    "    tagset_size=tagset_size,\n",
    "    embeddings=embedding_matrix,\n",
    "    # dropout=best_params['dropout']\n",
    "    dropout=0.4\n",
    ")\n",
    "net.to(device)"
   ]
  },
  {
   "cell_type": "code",
   "execution_count": 63,
   "metadata": {},
   "outputs": [],
   "source": [
    "criterion = nn.CrossEntropyLoss(ignore_index=-100)\n",
    "# optimizer = optim.AdamW(net.parameters(), lr=best_params['lr'], weight_decay=0.01)\n",
    "optimizer = optim.AdamW(net.parameters(), lr=0.002071759505536834, weight_decay=0.01)\n",
    "num_epochs = 15\n",
    "num_epochs_used = 0\n",
    "\n",
    "best_val_f1 = 0.0\n",
    "counter = 0\n",
    "patience = 3\n",
    "\n",
    "train_losses = []\n",
    "train_accuracies = []\n",
    "val_losses = []\n",
    "val_accuracies = []"
   ]
  },
  {
   "cell_type": "code",
   "execution_count": 64,
   "metadata": {},
   "outputs": [
    {
     "name": "stdout",
     "output_type": "stream",
     "text": [
      "\n",
      "epoch 1/15\n"
     ]
    },
    {
     "name": "stderr",
     "output_type": "stream",
     "text": [
      "                                                           \r"
     ]
    },
    {
     "name": "stdout",
     "output_type": "stream",
     "text": [
      "train loss: 0.2450, train acc: 0.9299, val acc: 0.9754\n",
      "\n",
      "epoch 2/15\n"
     ]
    },
    {
     "name": "stderr",
     "output_type": "stream",
     "text": [
      "                                                           \r"
     ]
    },
    {
     "name": "stdout",
     "output_type": "stream",
     "text": [
      "train loss: 0.0729, train acc: 0.9789, val acc: 0.9793\n",
      "\n",
      "epoch 3/15\n"
     ]
    },
    {
     "name": "stderr",
     "output_type": "stream",
     "text": [
      "                                                           \r"
     ]
    },
    {
     "name": "stdout",
     "output_type": "stream",
     "text": [
      "train loss: 0.0474, train acc: 0.9864, val acc: 0.9804\n",
      "\n",
      "epoch 4/15\n"
     ]
    },
    {
     "name": "stderr",
     "output_type": "stream",
     "text": [
      "                                                           \r"
     ]
    },
    {
     "name": "stdout",
     "output_type": "stream",
     "text": [
      "train loss: 0.0354, train acc: 0.9898, val acc: 0.9826\n",
      "\n",
      "epoch 5/15\n"
     ]
    },
    {
     "name": "stderr",
     "output_type": "stream",
     "text": [
      "                                                           \r"
     ]
    },
    {
     "name": "stdout",
     "output_type": "stream",
     "text": [
      "train loss: 0.0250, train acc: 0.9926, val acc: 0.9827\n",
      "\n",
      "epoch 6/15\n"
     ]
    },
    {
     "name": "stderr",
     "output_type": "stream",
     "text": [
      "                                                           \r"
     ]
    },
    {
     "name": "stdout",
     "output_type": "stream",
     "text": [
      "train loss: 0.0192, train acc: 0.9943, val acc: 0.9836\n",
      "\n",
      "epoch 7/15\n"
     ]
    },
    {
     "name": "stderr",
     "output_type": "stream",
     "text": [
      "                                                           \r"
     ]
    },
    {
     "name": "stdout",
     "output_type": "stream",
     "text": [
      "train loss: 0.0157, train acc: 0.9953, val acc: 0.9827\n",
      "\n",
      "epoch 8/15\n"
     ]
    },
    {
     "name": "stderr",
     "output_type": "stream",
     "text": [
      "                                                           \r"
     ]
    },
    {
     "name": "stdout",
     "output_type": "stream",
     "text": [
      "train loss: 0.0134, train acc: 0.9961, val acc: 0.9772\n",
      "\n",
      "epoch 9/15\n"
     ]
    },
    {
     "name": "stderr",
     "output_type": "stream",
     "text": [
      "                                                           \r"
     ]
    },
    {
     "name": "stdout",
     "output_type": "stream",
     "text": [
      "train loss: 0.0107, train acc: 0.9969, val acc: 0.9781\n"
     ]
    }
   ],
   "source": [
    "for epoch in range(num_epochs):\n",
    "    num_epochs_used += 1\n",
    "    print(f\"\\nepoch {epoch + 1}/{num_epochs}\")\n",
    "    train_loss, train_acc = train_epoch(net, train_iter, criterion, optimizer, device)\n",
    "    val_loss, val_acc, all_preds, all_labels = evaluate_epoch(net, val_iter, criterion, device)\n",
    "    val_f1 = f1_score(all_labels, all_preds)\n",
    "    \n",
    "    train_losses.append(train_loss)\n",
    "    train_accuracies.append(train_acc)\n",
    "    val_accuracies.append(val_acc)\n",
    "    \n",
    "    print(f\"train loss: {train_loss:.4f}, train acc: {train_acc:.4f}, val acc: {val_acc:.4f}\")\n",
    "    \n",
    "    if val_f1 > best_val_f1:\n",
    "        best_val_f1 = val_f1\n",
    "        torch.save(net.state_dict(), \"best_model.pth\")\n",
    "        counter = 0\n",
    "    else:\n",
    "        counter += 1\n",
    "        if counter >= patience:\n",
    "            break"
   ]
  },
  {
   "cell_type": "code",
   "execution_count": 65,
   "metadata": {},
   "outputs": [
    {
     "data": {
      "image/png": "[encoded data removed]",
      "text/plain": [
       "<Figure size 600x400 with 1 Axes>"
      ]
     },
     "metadata": {},
     "output_type": "display_data"
    }
   ],
   "source": [
    "epochs_range = range(1, num_epochs_used + 1)\n",
    "plt.figure(figsize=(6, 4))\n",
    "\n",
    "plt.plot(epochs_range, train_losses, label='train loss', linestyle='-', color='#2a7db8')\n",
    "plt.plot(epochs_range, train_accuracies, label='train acc', linestyle='--', color='magenta')\n",
    "plt.plot(epochs_range, val_accuracies, label='val acc', linestyle='-.', color='green')\n",
    "plt.xlabel('epoch')\n",
    "plt.ylabel('value')\n",
    "plt.ylim(0, 1)\n",
    "plt.legend(loc='lower right')\n",
    "plt.grid(True)\n",
    "plt.tight_layout()\n",
    "\n",
    "plt.show()"
   ]
  },
  {
   "cell_type": "markdown",
   "metadata": {},
   "source": [
    "#### Evaluation Metrics"
   ]
  },
  {
   "cell_type": "markdown",
   "metadata": {},
   "source": [
    "```markdown\n",
    "In here, the code defines a function to calculate and display evaluation metrics such as accuracy, precision, recall, F1 score, and a detailed classification report on the test set. It then invokes this function to evaluate the trained model.\n",
    "```"
   ]
  },
  {
   "cell_type": "code",
   "execution_count": 66,
   "metadata": {},
   "outputs": [
    {
     "name": "stderr",
     "output_type": "stream",
     "text": [
      "C:\\Users\\ASUS\\AppData\\Local\\Temp\\ipykernel_2432\\1080333206.py:1: FutureWarning: You are using `torch.load` with `weights_only=False` (the current default value), which uses the default pickle module implicitly. It is possible to construct malicious pickle data which will execute arbitrary code during unpickling (See https://github.com/pytorch/pytorch/blob/main/SECURITY.md#untrusted-models for more details). In a future release, the default value for `weights_only` will be flipped to `True`. This limits the functions that could be executed during unpickling. Arbitrary objects will no longer be allowed to be loaded via this mode unless they are explicitly allowlisted by the user via `torch.serialization.add_safe_globals`. We recommend you start setting `weights_only=True` for any use case where you don't have full control of the loaded file. Please open an issue on GitHub for any issues related to this experimental feature.\n",
      "  net.load_state_dict(torch.load(\"best_model.pth\"))\n"
     ]
    },
    {
     "data": {
      "text/plain": [
       "<All keys matched successfully>"
      ]
     },
     "execution_count": 66,
     "metadata": {},
     "output_type": "execute_result"
    }
   ],
   "source": [
    "net.load_state_dict(torch.load(\"best_model.pth\"))"
   ]
  },
  {
   "cell_type": "code",
   "execution_count": 67,
   "metadata": {},
   "outputs": [],
   "source": [
    "def cal_metrics(net, test_iter):\n",
    "    net.eval()\n",
    "    all_preds = []\n",
    "    all_labels = []\n",
    "\n",
    "    with torch.no_grad():\n",
    "        for batch in tqdm(test_iter, desc=\"Testing\"):\n",
    "            words = batch['words'].to(device)\n",
    "            chars = batch['chars'].to(device)\n",
    "            tags = batch['tags'].to(device)\n",
    "            \n",
    "            emissions = net(words, chars)\n",
    "            _, preds = torch.max(emissions, dim=2)\n",
    "            \n",
    "            preds = preds.cpu().numpy()\n",
    "            tags = tags.cpu().numpy()\n",
    "            \n",
    "            for pred_seq, tag_seq in zip(preds, tags):\n",
    "                pred_tags = []\n",
    "                true_tags = []\n",
    "                for p, t in zip(pred_seq, tag_seq):\n",
    "                    if t != -100:\n",
    "                        pred_tags.append(idx2tag[p])\n",
    "                        true_tags.append(idx2tag[t])\n",
    "                all_preds.append(pred_tags)\n",
    "                all_labels.append(true_tags)\n",
    "\n",
    "    accuracy = accuracy_score(all_labels, all_preds)\n",
    "    precision = precision_score(all_labels, all_preds)\n",
    "    recall = recall_score(all_labels, all_preds)\n",
    "    f1 = f1_score(all_labels, all_preds)\n",
    "    report = classification_report(all_labels, all_preds)\n",
    "\n",
    "    print(f\"Accuracy:  {accuracy:.4f}\")\n",
    "    print(f\"Precision: {precision:.4f}\")\n",
    "    print(f\"Recall:    {recall:.4f}\")\n",
    "    print(f\"F1 Score:  {f1:.4f}\")\n",
    "    print(\"\\nClassification Report:\\n\", report)\n",
    "\n",
    "    return None"
   ]
  },
  {
   "cell_type": "code",
   "execution_count": 68,
   "metadata": {},
   "outputs": [
    {
     "name": "stderr",
     "output_type": "stream",
     "text": [
      "Testing: 100%|██████████| 54/54 [00:00<00:00, 66.67it/s]\n"
     ]
    },
    {
     "name": "stdout",
     "output_type": "stream",
     "text": [
      "Accuracy:  0.9682\n",
      "Precision: 0.8105\n",
      "Recall:    0.8433\n",
      "F1 Score:  0.8266\n",
      "\n",
      "Classification Report:\n",
      "               precision    recall  f1-score   support\n",
      "\n",
      "         LOC       0.91      0.85      0.88      1656\n",
      "        MISC       0.75      0.73      0.74       701\n",
      "         ORG       0.75      0.79      0.77      1658\n",
      "         PER       0.81      0.94      0.87      1580\n",
      "\n",
      "   micro avg       0.81      0.84      0.83      5595\n",
      "   macro avg       0.80      0.83      0.81      5595\n",
      "weighted avg       0.81      0.84      0.83      5595\n",
      "\n"
     ]
    }
   ],
   "source": [
    "cal_metrics(net, test_iter)"
   ]
  },
  {
   "cell_type": "markdown",
   "metadata": {},
   "source": [
    "#### Prediction"
   ]
  },
  {
   "cell_type": "markdown",
   "metadata": {},
   "source": [
    "```markdown\n",
    "In here, the code defines a function to predict NER tags for a given input sentence. It tokenizes the sentence, converts tokens and characters to their respective indices, feeds them into the model to obtain predictions, and then maps the predicted indices back to their corresponding NER tags. Finally, it prints out each token with its predicted tag.\n",
    "```"
   ]
  },
  {
   "cell_type": "code",
   "execution_count": 69,
   "metadata": {},
   "outputs": [],
   "source": [
    "def predict_ner(net, sentence, word2idx, char2idx, idx2tag):\n",
    "    tokens = nltk.word_tokenize(sentence)\n",
    "    device = torch.device('cpu')\n",
    "    net.to(device)\n",
    "    net.eval()\n",
    "    max_len = 50\n",
    "    max_char_len = 10\n",
    "    word_ids = []\n",
    "    char_ids = []\n",
    "    \n",
    "    for token in tokens:\n",
    "        word_id = word2idx.get(token.lower(), word2idx['<UNK>'])\n",
    "        word_ids.append(word_id)\n",
    "        chars_of_token = [char2idx.get(c, char2idx['<UNK>']) for c in token]\n",
    "        if len(chars_of_token) > max_char_len:\n",
    "            chars_of_token = chars_of_token[:max_char_len]\n",
    "        else:\n",
    "            chars_of_token += [char2idx['<PAD>']] * (max_char_len - len(chars_of_token))\n",
    "        char_ids.append(chars_of_token)\n",
    "    \n",
    "    if len(word_ids) > max_len:\n",
    "        word_ids = word_ids[:max_len]\n",
    "        char_ids = char_ids[:max_len]\n",
    "    else:\n",
    "        pad_length = max_len - len(word_ids)\n",
    "        word_ids += [word2idx['<PAD>']] * pad_length\n",
    "        char_ids += [[char2idx['<PAD>']] * max_char_len] * pad_length\n",
    "    \n",
    "    word_tensor = torch.tensor([word_ids], dtype=torch.long, device=device)\n",
    "    char_tensor = torch.tensor([char_ids], dtype=torch.long, device=device)\n",
    "    \n",
    "    with torch.no_grad():\n",
    "        emissions = net(word_tensor, char_tensor)\n",
    "        _, preds = torch.max(emissions, dim=2)\n",
    "    preds = preds.squeeze(0).cpu().numpy()\n",
    "    real_length = min(len(tokens), max_len)\n",
    "    pred_tags = [idx2tag[preds[i]] for i in range(real_length)]\n",
    "    \n",
    "    return tokens, pred_tags\n"
   ]
  },
  {
   "cell_type": "code",
   "execution_count": 70,
   "metadata": {},
   "outputs": [
    {
     "name": "stdout",
     "output_type": "stream",
     "text": [
      "John B-PER\n",
      "lives O\n",
      "in O\n",
      "New B-LOC\n",
      "York I-LOC\n"
     ]
    }
   ],
   "source": [
    "tokens, predicted_tags = predict_ner(net, \"John lives in New York\", word2idx, char2idx, idx2tag)\n",
    "for token, tag in zip(tokens, predicted_tags):\n",
    "    print(token, tag)"
   ]
  },
  {
   "cell_type": "markdown",
   "metadata": {},
   "source": [
    "#### ONNX Exporting"
   ]
  },
  {
   "cell_type": "code",
   "execution_count": 71,
   "metadata": {},
   "outputs": [],
   "source": [
    "# def net_to_onnx(net, word2idx, char2idx, onnx_file_path=\"model.onnx\"):\n",
    "#     device = torch.device('cpu')\n",
    "#     net.to(device)\n",
    "#     net.eval()\n",
    "#     max_len = 50\n",
    "#     max_char_len = 10\n",
    "#     word_ids = [word2idx['<PAD>']] * max_len\n",
    "#     char_ids = [[char2idx['<PAD>']] * max_char_len] * max_len\n",
    "#     word_tensor = torch.tensor([word_ids], dtype=torch.long, device=device)\n",
    "#     char_tensor = torch.tensor([char_ids], dtype=torch.long, device=device)\n",
    "    \n",
    "#     torch.onnx.export(\n",
    "#         net, \n",
    "#         (word_tensor, char_tensor),\n",
    "#         onnx_file_path, \n",
    "#         export_params=True,\n",
    "#         opset_version=13,\n",
    "#         input_names=[\"word_ids\", \"char_ids\"],\n",
    "#         output_names=[\"emissions\"],\n",
    "#         dynamic_axes={\n",
    "#             \"word_ids\": {0: \"batch_size\", 1: \"seq_length\"},\n",
    "#             \"char_ids\": {0: \"batch_size\", 1: \"seq_length\", 2: \"char_length\"},\n",
    "#             \"emissions\": {0: \"batch_size\", 1: \"seq_length\"}\n",
    "#         }\n",
    "#     )\n",
    "#     return None\n",
    "\n",
    "# net_to_onnx(net, word2idx, char2idx, \"model.onnx\")"
   ]
  },
  {
   "cell_type": "code",
   "execution_count": 72,
   "metadata": {},
   "outputs": [],
   "source": [
    "# from onnxruntime.quantization import quantize_dynamic, QuantType\n",
    "\n",
    "# def quantize_onnx(input_model_path, output_model_path):\n",
    "#     quantize_dynamic(\n",
    "#         model_input=input_model_path,\n",
    "#         model_output=output_model_path,\n",
    "#         weight_type=QuantType.QInt8\n",
    "#     )\n",
    "#     return None\n",
    "\n",
    "# original_model_path = \"model.onnx\"\n",
    "# quantized_model_path = \"model-q.onnx\"\n",
    "# quantize_onnx(original_model_path, quantized_model_path)"
   ]
  }
 ],
 "metadata": {
  "kernelspec": {
   "display_name": "ai",
   "language": "python",
   "name": "python3"
  },
  "language_info": {
   "codemirror_mode": {
    "name": "ipython",
    "version": 3
   },
   "file_extension": ".py",
   "mimetype": "text/x-python",
   "name": "python",
   "nbconvert_exporter": "python",
   "pygments_lexer": "ipython3",
   "version": "3.10.15"
  }
 },
 "nbformat": 4,
 "nbformat_minor": 2
}
